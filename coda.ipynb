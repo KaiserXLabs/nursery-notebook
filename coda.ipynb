{
 "metadata": {
  "language_info": {
   "codemirror_mode": {
    "name": "ipython",
    "version": 3
   },
   "file_extension": ".py",
   "mimetype": "text/x-python",
   "name": "python",
   "nbconvert_exporter": "python",
   "pygments_lexer": "ipython3",
   "version": "3.7.6-final"
  },
  "orig_nbformat": 2,
  "kernelspec": {
   "name": "python3",
   "display_name": "Python 3"
  }
 },
 "nbformat": 4,
 "nbformat_minor": 2,
 "cells": [
  {
   "cell_type": "code",
   "execution_count": null,
   "metadata": {},
   "outputs": [],
   "source": [
    "username       = <ENTER_USERNAME>\n",
    "password       = <ENTER_PASSWORD>\n",
    "profile_type   = 'okr-sprout'"
   ]
  },
  {
   "cell_type": "code",
   "execution_count": null,
   "metadata": {},
   "outputs": [],
   "source": [
    "import requests\n",
    "import urllib\n",
    "\n",
    "url = 'https://demo.grnry.io/auth/realms/grnry/protocol/openid-connect/token'\n",
    "\n",
    "payload = f'grant_type=password&username={urllib.parse.quote_plus(username)}&password={urllib.parse.quote_plus(password)}&client_id=profile-api'\n",
    "headers = {\n",
    "  'Content-Type': 'application/x-www-form-urlencoded'\n",
    "}\n",
    "\n",
    "response = requests.request('POST', url, headers=headers, data = payload)\n",
    "\n",
    "token = response.json()['access_token']"
   ]
  },
  {
   "cell_type": "code",
   "execution_count": null,
   "metadata": {},
   "outputs": [],
   "source": [
    "url = f'https://demo.grnry.io/profiles/{profile_type}'\n",
    "\n",
    "payload={}\n",
    "headers = {\n",
    "  'Authorization': f'Bearer {token}'\n",
    "}\n",
    "\n",
    "response = requests.request('GET', url, headers=headers, data=payload).json()"
   ]
  },
  {
   "cell_type": "code",
   "execution_count": null,
   "metadata": {},
   "outputs": [],
   "source": [
    "import pandas as pd\n",
    "\n",
    "profiles = [ {'circle':p['correlationId'],**p['jsonPayload']} for p in response['profiles']]\n",
    "circles = pd.json_normalize(profiles,max_level=2)\n",
    "circles = circles.melt(id_vars=['circle'])\n",
    "values = pd.json_normalize(circles['value'],max_level=0)\n",
    "values = values.applymap(lambda x: x.get('_latest').get('_v') if isinstance(x, dict) else '0')\n",
    "okr_progress = pd.concat([circles[['circle','variable']],values],axis=1)\n",
    "okr_progress"
   ]
  },
  {
   "cell_type": "code",
   "execution_count": null,
   "metadata": {},
   "outputs": [],
   "source": [
    "import matplotlib.pyplot as plt\n",
    "import numpy as np\n",
    "\n",
    "plt.rcdefaults()\n",
    "fig, ax = plt.subplots()\n",
    "\n",
    "circle = okr_progress['circle']\n",
    "y_pos = np.arange(len(circle))\n",
    "performance = (okr_progress['numberOfKR'].astype(int)*100/\n",
    "               okr_progress['progressOfKR'].astype(int)).tolist()\n",
    "error = np.random.rand(len(circle))\n",
    "\n",
    "ax.barh(y_pos, performance, xerr=error, align='center')\n",
    "ax.set_yticks(y_pos)\n",
    "ax.set_yticklabels(circle)\n",
    "ax.invert_yaxis()  # labels read top-to-bottom\n",
    "ax.set_xlabel('Progress')\n",
    "ax.set_title('OKR Progress per circle in percent')\n",
    "\n",
    "plt.show()"
   ]
  }
 ]
}