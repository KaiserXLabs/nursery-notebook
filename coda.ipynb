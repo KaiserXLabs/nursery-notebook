{
  "nbformat": 4,
  "nbformat_minor": 0,
  "metadata": {
    "language_info": {
      "codemirror_mode": {
        "name": "ipython",
        "version": 3
      },
      "file_extension": ".py",
      "mimetype": "text/x-python",
      "name": "python",
      "nbconvert_exporter": "python",
      "pygments_lexer": "ipython3",
      "version": "3.7.6-final"
    },
    "orig_nbformat": 2,
    "kernelspec": {
      "name": "python3",
      "display_name": "Python 3"
    },
    "colab": {
      "name": "coda.ipynb",
      "provenance": []
    }
  },
  "cells": [
    {
      "cell_type": "code",
      "metadata": {
        "id": "jwGNv5Z9TZuo"
      },
      "source": [
        "username       = \" \"\n",
        "password       = \" \"\n",
        "profile_type   = 'okr-sprout'"
      ],
      "execution_count": 1,
      "outputs": []
    },
    {
      "cell_type": "code",
      "metadata": {
        "id": "QsnYtQe3TZuo"
      },
      "source": [
        "import requests\n",
        "import urllib\n",
        "\n",
        "url = 'https://demo.grnry.io/auth/realms/grnry/protocol/openid-connect/token'\n",
        "\n",
        "payload = f'grant_type=password&username={urllib.parse.quote_plus(username)}&password={urllib.parse.quote_plus(password)}&client_id=profile-api'\n",
        "headers = {\n",
        "  'Content-Type': 'application/x-www-form-urlencoded'\n",
        "}\n",
        "\n",
        "response = requests.request('POST', url, headers=headers, data = payload)\n",
        "\n",
        "token = response.json()['access_token']"
      ],
      "execution_count": 3,
      "outputs": []
    },
    {
      "cell_type": "code",
      "metadata": {
        "id": "faA8w3gp5RdJ"
      },
      "source": [
        "responses = []\n",
        "for correlation_id in ['CS','product','growth']:\n",
        "  url = f\"https://demo.grnry.io/profiles/okr-sprout/{correlation_id}?fragments=\"\n",
        "  headers = {\n",
        "    'Authorization': f'Bearer {token}'}\n",
        "  response = requests.request(\"GET\", url, headers=headers)\n",
        "  responses.append(response.json())\n",
        "\n"
      ],
      "execution_count": 14,
      "outputs": []
    },
    {
      "cell_type": "code",
      "metadata": {
        "colab": {
          "base_uri": "https://localhost:8080/",
          "height": 514
        },
        "id": "TCzGnbytTZuo",
        "outputId": "95297ac1-c9fd-43a3-a001-7bb847bd7cc6"
      },
      "source": [
        "import pandas as pd\n",
        "\n",
        "profiles = [ {'circle':p['correlationId'],**p['jsonPayload']} for p in responses]\n",
        "\n",
        "for i in range(len(profiles)):\n",
        "    profiles[i].pop('_id',None)\n",
        "circles = pd.json_normalize(profiles,max_level=2)\n",
        "circles = circles.melt(id_vars=['circle'])\n",
        "values = pd.json_normalize(circles['value'],max_level=0)\n",
        "values = values.applymap(lambda x: x.get('_latest').get('_v') if isinstance(x, dict) else '0')\n",
        "okr_progress = pd.concat([circles[['circle','variable']],values],axis=1)\n",
        "okr_progress\n"
      ],
      "execution_count": 28,
      "outputs": [
        {
          "output_type": "execute_result",
          "data": {
            "text/html": [
              "<div>\n",
              "<style scoped>\n",
              "    .dataframe tbody tr th:only-of-type {\n",
              "        vertical-align: middle;\n",
              "    }\n",
              "\n",
              "    .dataframe tbody tr th {\n",
              "        vertical-align: top;\n",
              "    }\n",
              "\n",
              "    .dataframe thead th {\n",
              "        text-align: right;\n",
              "    }\n",
              "</style>\n",
              "<table border=\"1\" class=\"dataframe\">\n",
              "  <thead>\n",
              "    <tr style=\"text-align: right;\">\n",
              "      <th></th>\n",
              "      <th>circle</th>\n",
              "      <th>variable</th>\n",
              "      <th>numberOfKR</th>\n",
              "      <th>progressOfKR</th>\n",
              "    </tr>\n",
              "  </thead>\n",
              "  <tbody>\n",
              "    <tr>\n",
              "      <th>0</th>\n",
              "      <td>CS</td>\n",
              "      <td>2020.11.26</td>\n",
              "      <td>10</td>\n",
              "      <td>75</td>\n",
              "    </tr>\n",
              "    <tr>\n",
              "      <th>1</th>\n",
              "      <td>product</td>\n",
              "      <td>2020.11.26</td>\n",
              "      <td>10</td>\n",
              "      <td>165</td>\n",
              "    </tr>\n",
              "    <tr>\n",
              "      <th>2</th>\n",
              "      <td>growth</td>\n",
              "      <td>2020.11.26</td>\n",
              "      <td>9</td>\n",
              "      <td>0</td>\n",
              "    </tr>\n",
              "    <tr>\n",
              "      <th>3</th>\n",
              "      <td>CS</td>\n",
              "      <td>2020.11.27</td>\n",
              "      <td>10</td>\n",
              "      <td>75</td>\n",
              "    </tr>\n",
              "    <tr>\n",
              "      <th>4</th>\n",
              "      <td>product</td>\n",
              "      <td>2020.11.27</td>\n",
              "      <td>10</td>\n",
              "      <td>165</td>\n",
              "    </tr>\n",
              "    <tr>\n",
              "      <th>5</th>\n",
              "      <td>growth</td>\n",
              "      <td>2020.11.27</td>\n",
              "      <td>9</td>\n",
              "      <td>0</td>\n",
              "    </tr>\n",
              "    <tr>\n",
              "      <th>6</th>\n",
              "      <td>CS</td>\n",
              "      <td>2020.11.28</td>\n",
              "      <td>10</td>\n",
              "      <td>75</td>\n",
              "    </tr>\n",
              "    <tr>\n",
              "      <th>7</th>\n",
              "      <td>product</td>\n",
              "      <td>2020.11.28</td>\n",
              "      <td>10</td>\n",
              "      <td>165</td>\n",
              "    </tr>\n",
              "    <tr>\n",
              "      <th>8</th>\n",
              "      <td>growth</td>\n",
              "      <td>2020.11.28</td>\n",
              "      <td>9</td>\n",
              "      <td>0</td>\n",
              "    </tr>\n",
              "    <tr>\n",
              "      <th>9</th>\n",
              "      <td>CS</td>\n",
              "      <td>2020.11.29</td>\n",
              "      <td>10</td>\n",
              "      <td>75</td>\n",
              "    </tr>\n",
              "    <tr>\n",
              "      <th>10</th>\n",
              "      <td>product</td>\n",
              "      <td>2020.11.29</td>\n",
              "      <td>10</td>\n",
              "      <td>165</td>\n",
              "    </tr>\n",
              "    <tr>\n",
              "      <th>11</th>\n",
              "      <td>growth</td>\n",
              "      <td>2020.11.29</td>\n",
              "      <td>9</td>\n",
              "      <td>0</td>\n",
              "    </tr>\n",
              "    <tr>\n",
              "      <th>12</th>\n",
              "      <td>CS</td>\n",
              "      <td>2020.11.30</td>\n",
              "      <td>10</td>\n",
              "      <td>75</td>\n",
              "    </tr>\n",
              "    <tr>\n",
              "      <th>13</th>\n",
              "      <td>product</td>\n",
              "      <td>2020.11.30</td>\n",
              "      <td>10</td>\n",
              "      <td>165</td>\n",
              "    </tr>\n",
              "    <tr>\n",
              "      <th>14</th>\n",
              "      <td>growth</td>\n",
              "      <td>2020.11.30</td>\n",
              "      <td>9</td>\n",
              "      <td>0</td>\n",
              "    </tr>\n",
              "  </tbody>\n",
              "</table>\n",
              "</div>"
            ],
            "text/plain": [
              "     circle    variable numberOfKR progressOfKR\n",
              "0        CS  2020.11.26         10           75\n",
              "1   product  2020.11.26         10          165\n",
              "2    growth  2020.11.26          9            0\n",
              "3        CS  2020.11.27         10           75\n",
              "4   product  2020.11.27         10          165\n",
              "5    growth  2020.11.27          9            0\n",
              "6        CS  2020.11.28         10           75\n",
              "7   product  2020.11.28         10          165\n",
              "8    growth  2020.11.28          9            0\n",
              "9        CS  2020.11.29         10           75\n",
              "10  product  2020.11.29         10          165\n",
              "11   growth  2020.11.29          9            0\n",
              "12       CS  2020.11.30         10           75\n",
              "13  product  2020.11.30         10          165\n",
              "14   growth  2020.11.30          9            0"
            ]
          },
          "metadata": {
            "tags": []
          },
          "execution_count": 28
        }
      ]
    },
    {
      "cell_type": "code",
      "metadata": {
        "colab": {
          "base_uri": "https://localhost:8080/",
          "height": 472
        },
        "id": "niW6ENdyTZup",
        "outputId": "80d18cf7-9ad9-4847-edd6-fcc242201205"
      },
      "source": [
        "import matplotlib.pyplot as plt\n",
        "import seaborn\n",
        "\n",
        "plt.rcdefaults()\n",
        "fig, ax = plt.subplots()\n",
        "\n",
        "circle = okr_progress['circle']\n",
        "y_pos = np.arange(len(circle))\n",
        "performance = (okr_progress['numberOfKR'].astype(int)*100/\n",
        "               okr_progress['progressOfKR'].astype(int)).tolist()\n",
        "error = np.random.rand(len(circle))\n",
        "\n",
        "ax.barh(y_pos, performance, xerr=error, align='center')\n",
        "ax.set_yticks(y_pos)\n",
        "ax.set_yticklabels(circle)\n",
        "ax.invert_yaxis()  # labels read top-to-bottom\n",
        "ax.set_xlabel('Progress')\n",
        "ax.set_title('OKR Progress per circle in percent')\n",
        "\n",
        "plt.show()"
      ],
      "execution_count": 31,
      "outputs": [
        {
          "output_type": "display_data",
          "data": {
            "image/png": "[encoded data removed]",
            "text/plain": [
              "<Figure size 640x480 with 1 Axes>"
            ]
          },
          "metadata": {
            "tags": []
          }
        }
      ]
    },
    {
      "cell_type": "code",
      "metadata": {
        "colab": {
          "base_uri": "https://localhost:8080/",
          "height": 164
        },
        "id": "tJDH44D3EOw1",
        "outputId": "3851e7e2-f856-45e1-bba6-cc350895aa43"
      },
      "source": [
        "version"
      ],
      "execution_count": null,
      "outputs": [
        {
          "output_type": "error",
          "ename": "NameError",
          "evalue": "ignored",
          "traceback": [
            "\u001b[0;31m---------------------------------------------------------------------------\u001b[0m",
            "\u001b[0;31mNameError\u001b[0m                                 Traceback (most recent call last)",
            "\u001b[0;32m<ipython-input-7-605b5d1778ad>\u001b[0m in \u001b[0;36m<module>\u001b[0;34m()\u001b[0m\n\u001b[0;32m----> 1\u001b[0;31m \u001b[0mversion\u001b[0m\u001b[0;34m\u001b[0m\u001b[0;34m\u001b[0m\u001b[0m\n\u001b[0m",
            "\u001b[0;31mNameError\u001b[0m: name 'version' is not defined"
          ]
        }
      ]
    },
    {
      "cell_type": "code",
      "metadata": {
        "id": "RavCbgouB0Tn",
        "outputId": "ff15e2e6-9d8e-4cd0-af14-73c6e5c5dd0e",
        "colab": {
          "base_uri": "https://localhost:8080/",
          "height": 495
        }
      },
      "source": [
        "import numpy as np\n",
        "import seaborn as sns\n",
        "import matplotlib.pyplot as plt\n",
        "sns.set_theme(style=\"white\", context=\"talk\")\n",
        "rs = np.random.RandomState(8)\n",
        "\n",
        "# Set up the matplotlib figure\n",
        "f, (ax1, ax2, ax3) = plt.subplots(3, 1, figsize=(7, 5), sharex=True)\n",
        "\n",
        "# Generate some sequential data\n",
        "x = np.array(list(\"ABCDEFGHIJ\"))\n",
        "y1 = np.arange(1, 11)\n",
        "sns.barplot(x=x, y=y1, palette=\"rocket\", ax=ax1)\n",
        "ax1.axhline(0, color=\"k\", clip_on=False)\n",
        "ax1.set_ylabel(\"Sequential\")\n",
        "\n",
        "# Center the data to make it diverging\n",
        "y2 = y1 - 5.5\n",
        "sns.barplot(x=x, y=y2, palette=\"vlag\", ax=ax2)\n",
        "ax2.axhline(0, color=\"k\", clip_on=False)\n",
        "ax2.set_ylabel(\"Diverging\")\n",
        "\n",
        "# Randomly reorder the data to make it qualitative\n",
        "y3 = rs.choice(y1, len(y1), replace=False)\n",
        "sns.barplot(x=x, y=y3, palette=\"deep\", ax=ax3)\n",
        "ax3.axhline(0, color=\"k\", clip_on=False)\n",
        "ax3.set_ylabel(\"Qualitative\")\n",
        "\n",
        "# Finalize the plot\n",
        "sns.despine(bottom=True)\n",
        "plt.setp(f.axes, yticks=[])\n",
        "plt.tight_layout(h_pad=2)"
      ],
      "execution_count": 32,
      "outputs": [
        {
          "output_type": "display_data",
          "data": {
            "image/png": "[encoded data removed]",
            "text/plain": [
              "<Figure size 700x500 with 3 Axes>"
            ]
          },
          "metadata": {
            "tags": []
          }
        }
      ]
    }
  ]
}
